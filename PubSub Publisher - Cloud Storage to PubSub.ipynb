{
 "cells": [
  {
   "cell_type": "code",
   "execution_count": 25,
   "id": "5a107c7c",
   "metadata": {},
   "outputs": [
    {
     "data": {
      "text/plain": [
       "'C:\\\\Users\\\\BOURGET Rick'"
      ]
     },
     "execution_count": 25,
     "metadata": {},
     "output_type": "execute_result"
    }
   ],
   "source": [
    "import pandas as pd\n",
    "import numpy as np\n",
    "import os\n",
    "from io import StringIO\n",
    "\n",
    "from google.cloud import storage\n",
    "from google.cloud import pubsub_v1\n",
    "import logging\n",
    "from concurrent.futures import TimeoutError\n",
    "import json\n",
    "\n",
    "os.getcwd()"
   ]
  },
  {
   "cell_type": "code",
   "execution_count": 2,
   "id": "e83a133f",
   "metadata": {},
   "outputs": [],
   "source": [
    "os.environ[\"GOOGLE_APPLICATION_CREDENTIALS\"] = 'C:/Users/BOURGET Rick/Documents/pipelinePOC/our-shield-373717-9ba7bcbe7650.json'"
   ]
  },
  {
   "cell_type": "code",
   "execution_count": 14,
   "id": "d58f9366",
   "metadata": {},
   "outputs": [
    {
     "data": {
      "text/plain": [
       "False"
      ]
     },
     "execution_count": 14,
     "metadata": {},
     "output_type": "execute_result"
    }
   ],
   "source": [
    "message = \"IKUSO\"\n",
    "isinstance({'test_values':message.encode(\"utf-8\")},str)"
   ]
  },
  {
   "cell_type": "code",
   "execution_count": 29,
   "id": "b9135255",
   "metadata": {},
   "outputs": [
    {
     "data": {
      "text/html": [
       "<div>\n",
       "<style scoped>\n",
       "    .dataframe tbody tr th:only-of-type {\n",
       "        vertical-align: middle;\n",
       "    }\n",
       "\n",
       "    .dataframe tbody tr th {\n",
       "        vertical-align: top;\n",
       "    }\n",
       "\n",
       "    .dataframe thead th {\n",
       "        text-align: right;\n",
       "    }\n",
       "</style>\n",
       "<table border=\"1\" class=\"dataframe\">\n",
       "  <thead>\n",
       "    <tr style=\"text-align: right;\">\n",
       "      <th></th>\n",
       "      <th>0</th>\n",
       "      <th>1</th>\n",
       "      <th>2</th>\n",
       "    </tr>\n",
       "  </thead>\n",
       "  <tbody>\n",
       "    <tr>\n",
       "      <th>0</th>\n",
       "      <td>44</td>\n",
       "      <td>8602</td>\n",
       "      <td>37.19</td>\n",
       "    </tr>\n",
       "    <tr>\n",
       "      <th>1</th>\n",
       "      <td>35</td>\n",
       "      <td>5368</td>\n",
       "      <td>65.89</td>\n",
       "    </tr>\n",
       "    <tr>\n",
       "      <th>2</th>\n",
       "      <td>2</td>\n",
       "      <td>3391</td>\n",
       "      <td>40.64</td>\n",
       "    </tr>\n",
       "    <tr>\n",
       "      <th>3</th>\n",
       "      <td>47</td>\n",
       "      <td>6694</td>\n",
       "      <td>14.98</td>\n",
       "    </tr>\n",
       "    <tr>\n",
       "      <th>4</th>\n",
       "      <td>29</td>\n",
       "      <td>680</td>\n",
       "      <td>13.08</td>\n",
       "    </tr>\n",
       "    <tr>\n",
       "      <th>...</th>\n",
       "      <td>...</td>\n",
       "      <td>...</td>\n",
       "      <td>...</td>\n",
       "    </tr>\n",
       "    <tr>\n",
       "      <th>9995</th>\n",
       "      <td>61</td>\n",
       "      <td>229</td>\n",
       "      <td>86.69</td>\n",
       "    </tr>\n",
       "    <tr>\n",
       "      <th>9996</th>\n",
       "      <td>50</td>\n",
       "      <td>4331</td>\n",
       "      <td>92.79</td>\n",
       "    </tr>\n",
       "    <tr>\n",
       "      <th>9997</th>\n",
       "      <td>2</td>\n",
       "      <td>9155</td>\n",
       "      <td>56.05</td>\n",
       "    </tr>\n",
       "    <tr>\n",
       "      <th>9998</th>\n",
       "      <td>23</td>\n",
       "      <td>2477</td>\n",
       "      <td>14.89</td>\n",
       "    </tr>\n",
       "    <tr>\n",
       "      <th>9999</th>\n",
       "      <td>97</td>\n",
       "      <td>5707</td>\n",
       "      <td>54.90</td>\n",
       "    </tr>\n",
       "  </tbody>\n",
       "</table>\n",
       "<p>10000 rows × 3 columns</p>\n",
       "</div>"
      ],
      "text/plain": [
       "       0     1      2\n",
       "0     44  8602  37.19\n",
       "1     35  5368  65.89\n",
       "2      2  3391  40.64\n",
       "3     47  6694  14.98\n",
       "4     29   680  13.08\n",
       "...   ..   ...    ...\n",
       "9995  61   229  86.69\n",
       "9996  50  4331  92.79\n",
       "9997   2  9155  56.05\n",
       "9998  23  2477  14.89\n",
       "9999  97  5707  54.90\n",
       "\n",
       "[10000 rows x 3 columns]"
      ]
     },
     "execution_count": 29,
     "metadata": {},
     "output_type": "execute_result"
    }
   ],
   "source": [
    "bucket_name = \"spark_bucket_rbgt\"\n",
    "file = storage.Client(project=\"our-shield-373717\").bucket(bucket_name).blob(\"customer-orders.csv\").download_as_string()\n",
    "file = file.decode(\"utf-8\")\n",
    "file = StringIO(file)\n",
    "file = pd.read_csv(file, header=None)\n",
    "file"
   ]
  },
  {
   "cell_type": "code",
   "execution_count": 31,
   "id": "0261cf4b",
   "metadata": {},
   "outputs": [
    {
     "data": {
      "text/plain": [
       "array([44, 35,  2, ...,  2, 23, 97], dtype=int64)"
      ]
     },
     "execution_count": 31,
     "metadata": {},
     "output_type": "execute_result"
    }
   ],
   "source": [
    "file[0].values"
   ]
  },
  {
   "cell_type": "code",
   "execution_count": 34,
   "id": "0b74051d",
   "metadata": {},
   "outputs": [
    {
     "data": {
      "text/plain": [
       "0      44.00\n",
       "1    8602.00\n",
       "2      37.19\n",
       "Name: 0, dtype: float64"
      ]
     },
     "execution_count": 34,
     "metadata": {},
     "output_type": "execute_result"
    }
   ],
   "source": [
    "file.loc[0,:]"
   ]
  },
  {
   "cell_type": "markdown",
   "id": "a22231f0",
   "metadata": {},
   "source": [
    "### Collecter la data depuis Cloud Storage"
   ]
  },
  {
   "cell_type": "code",
   "execution_count": 38,
   "id": "e371e0c7",
   "metadata": {},
   "outputs": [],
   "source": [
    "bucket_name = \"spark_bucket_rbgt\"\n",
    "# On télécharge le csv et on le formatte pour pouvoir le lire avec Pandas\n",
    "file = storage.Client(project=\"our-shield-373717\").bucket(bucket_name).blob(\"customer-orders.csv\").download_as_string()\n",
    "file = file.decode(\"utf-8\")\n",
    "file = StringIO(file)\n",
    "file = pd.read_csv(file, header=None)\n",
    "\n",
    "\n",
    "publisher = pubsub_v1.PublisherClient()\n",
    "topic_name = \"projects/our-shield-373717/topics/collect-data\"\n",
    "\n",
    "for i in range(len(file)):\n",
    "    row = file.loc[i,:]\n",
    "    data = {'customer_id': row[0],'order_id': row[1],'order_amount':row[2]}\n",
    "\n",
    "    data = json.dumps(data)\n",
    "    data = data.encode(\"utf-8\")\n",
    "\n",
    "    future = publisher.publish(topic_name, data=data)"
   ]
  },
  {
   "cell_type": "code",
   "execution_count": null,
   "id": "bb2a98ca",
   "metadata": {},
   "outputs": [],
   "source": []
  }
 ],
 "metadata": {
  "kernelspec": {
   "display_name": "Python 3 (ipykernel)",
   "language": "python",
   "name": "python3"
  },
  "language_info": {
   "codemirror_mode": {
    "name": "ipython",
    "version": 3
   },
   "file_extension": ".py",
   "mimetype": "text/x-python",
   "name": "python",
   "nbconvert_exporter": "python",
   "pygments_lexer": "ipython3",
   "version": "3.9.13"
  }
 },
 "nbformat": 4,
 "nbformat_minor": 5
}
